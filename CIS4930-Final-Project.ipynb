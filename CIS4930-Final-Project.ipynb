{
 "cells": [
  {
   "cell_type": "code",
   "execution_count": null,
   "id": "ec14af09-62a3-46f3-9f89-1ce9bdf51f71",
   "metadata": {},
   "outputs": [],
   "source": [
    "import kagglehub\n",
    "import pandas as pd\n",
    "\n",
    "# Download latest version\n",
    "path = kagglehub.dataset_download(\"sadmansakib7/ecg-arrhythmia-classification-dataset\")\n",
    "\n",
    "print(\"Path to dataset files:\", path)\n",
    "\n",
    "# load the dataset\n",
    "df = pd.read_csv(path + \"\\MIT-BIH Arrhythmia Database.csv\")     \n"
   ]
  },
  {
   "cell_type": "code",
   "execution_count": null,
   "id": "7b7e40c2",
   "metadata": {},
   "outputs": [],
   "source": [
    "import matplotlib.pyplot as plt\n",
    "from sklearn.preprocessing import LabelEncoder\n",
    "from sklearn.model_selection import train_test_split\n",
    "from sklearn.preprocessing import StandardScaler\n",
    "\n",
    "# data visualization and preprocessing\n",
    "\n",
    "# bar chart of class distribution\n",
    "df['type'].value_counts().plot(kind='bar')\n",
    "plt.show()\n",
    "\n",
    "# Data exploration\n",
    "print(f'Dataset Shape: {df.shape}\\n')\n",
    "print(df.head(5))\n",
    "df.info()\n",
    "df.describe()\n",
    "\n",
    "#columns in dataset:\n",
    "print(df.columns)\n",
    "print(df['type'].value_counts()) \n",
    "\n",
    "# from the visualization, we can see that there are some classes with very few samples, and classes that don't do anything\n",
    "df = df.drop(columns=['record'])\n",
    "\n",
    "# drop type ==  Q, not enough samples to form worthwhile predictions, can't be saved with SMOTE either\n",
    "df = df[df['type'] != 'Q']\n",
    "\n",
    "# Encode the 'type' column,  because the classes are not ordinal\n",
    "label_encoder = LabelEncoder()\n",
    "df['type'] = label_encoder.fit_transform(df['type'])\n",
    "\n",
    "# Print the mapping of classes to encoded values\n",
    "print(dict(zip(label_encoder.classes_, label_encoder.transform(label_encoder.classes_))))\n",
    "\n",
    "\n",
    "X = df.drop('type', axis=1)\n",
    "y = df['type']\n",
    "\n",
    "# Split the data into features (X) and target (y)\n",
    "# X contains all columns except 'type', which is our target variable\n",
    "# y contains only the 'type' column which has been encoded to numeric values\n",
    "X_train, X_test, y_train, y_test = train_test_split(X, y, test_size=0.2, random_state=42)\n",
    "\n",
    "# Initialize the StandardScaler\n",
    "scaler = StandardScaler()\n",
    "\n",
    "# Fit the scaler on the training data and transform both training and test data\n",
    "X_train_scaled = scaler.fit_transform(X_train)\n",
    "X_test_scaled = scaler.transform(X_test)\n"
   ]
  },
  {
   "cell_type": "code",
   "execution_count": 11,
   "id": "71160486",
   "metadata": {},
   "outputs": [
    {
     "name": "stdout",
     "output_type": "stream",
     "text": [
      "XGBoost Classification Report:\n",
      "              precision    recall  f1-score   support\n",
      "\n",
      "           F       0.95      0.80      0.87       163\n",
      "           N       0.99      1.00      1.00     18017\n",
      "        SVEB       0.97      0.87      0.92       573\n",
      "         VEB       0.97      0.97      0.97      1382\n",
      "\n",
      "    accuracy                           0.99     20135\n",
      "   macro avg       0.97      0.91      0.94     20135\n",
      "weighted avg       0.99      0.99      0.99     20135\n",
      "\n"
     ]
    }
   ],
   "source": [
    "from sklearn.metrics import classification_report\n",
    "from xgboost import XGBClassifier\n",
    "\n",
    "# Initialize XGBoost classifier with specific parameters\n",
    "# use_label_encoder=False: Avoid using the deprecated label encoder\n",
    "# eval_metric='mlogloss': Use multiclass log loss as evaluation metric\n",
    "# verbosity=0: Suppress verbose output\n",
    "# random_state=42: Set seed for reproducibility\n",
    "xgb_model = XGBClassifier(use_label_encoder=False, eval_metric='mlogloss', verbosity=0, random_state=42)\n",
    "\n",
    "# Train the XGBoost model on the training data\n",
    "xgb_model.fit(X_train_scaled, y_train)\n",
    "\n",
    "# Make predictions on the test data\n",
    "y_pred_xgb = xgb_model.predict(X_test_scaled)\n",
    "\n",
    "# Print the classification report\n",
    "print(\"XGBoost Classification Report:\")\n",
    "# Use the original class names from the label encoder for better readability in the report\n",
    "print(classification_report(y_test, y_pred_xgb, target_names=label_encoder.classes_))"
   ]
  },
  {
   "cell_type": "code",
   "execution_count": 12,
   "id": "7b949a71",
   "metadata": {},
   "outputs": [
    {
     "name": "stdout",
     "output_type": "stream",
     "text": [
      "Random Forest Classification Report:\n",
      "              precision    recall  f1-score   support\n",
      "\n",
      "           F       0.94      0.71      0.81       163\n",
      "           N       0.99      1.00      0.99     18017\n",
      "        SVEB       0.98      0.80      0.88       573\n",
      "         VEB       0.97      0.96      0.96      1382\n",
      "\n",
      "    accuracy                           0.99     20135\n",
      "   macro avg       0.97      0.87      0.91     20135\n",
      "weighted avg       0.99      0.99      0.99     20135\n",
      "\n"
     ]
    }
   ],
   "source": [
    "from sklearn.ensemble import RandomForestClassifier\n",
    "\n",
    "# Initialize Random Forest classifier with specific parameters\n",
    "# n_estimators=100: Use 100 trees in the forest\n",
    "# random_state=42: Set seed for reproducibility\n",
    "rf_model = RandomForestClassifier(n_estimators=100, random_state=42)\n",
    "\n",
    "# Train the Random Forest model on the training data\n",
    "rf_model.fit(X_train_scaled, y_train)\n",
    "\n",
    "# Make predictions on the test data\n",
    "y_pred_rf = rf_model.predict(X_test_scaled)\n",
    "\n",
    "# Print the classification report\n",
    "print(\"Random Forest Classification Report:\")\n",
    "print(classification_report(y_test, y_pred_rf, target_names=label_encoder.classes_))"
   ]
  },
  {
   "cell_type": "code",
   "execution_count": 13,
   "id": "52242c1c",
   "metadata": {},
   "outputs": [
    {
     "name": "stdout",
     "output_type": "stream",
     "text": [
      "Logistic Regression Classification Report:\n",
      "              precision    recall  f1-score   support\n",
      "\n",
      "           F       0.68      0.22      0.33       163\n",
      "           N       0.96      0.99      0.97     18017\n",
      "        SVEB       0.51      0.17      0.25       573\n",
      "         VEB       0.86      0.80      0.83      1382\n",
      "\n",
      "    accuracy                           0.95     20135\n",
      "   macro avg       0.75      0.54      0.60     20135\n",
      "weighted avg       0.94      0.95      0.94     20135\n",
      "\n"
     ]
    }
   ],
   "source": [
    "from sklearn.linear_model import LogisticRegression\n",
    "from sklearn.metrics import classification_report\n",
    "\n",
    "# Initialize and train the Logistic Regression model\n",
    "lr_model = LogisticRegression(max_iter=2000, random_state=42)\n",
    "lr_model.fit(X_train_scaled, y_train)\n",
    "\n",
    "# Make predictions and evaluate the model\n",
    "y_pred_lr = lr_model.predict(X_test_scaled)\n",
    "print(\"Logistic Regression Classification Report:\")\n",
    "print(classification_report(y_test, y_pred_lr, target_names=label_encoder.classes_))"
   ]
  },
  {
   "cell_type": "code",
   "execution_count": 14,
   "id": "6b9b44c2",
   "metadata": {},
   "outputs": [
    {
     "name": "stdout",
     "output_type": "stream",
     "text": [
      "Voting Classifier Classification Report:\n",
      "              precision    recall  f1-score   support\n",
      "\n",
      "           F       0.94      0.72      0.82       163\n",
      "           N       0.99      1.00      0.99     18017\n",
      "        SVEB       0.99      0.80      0.89       573\n",
      "         VEB       0.97      0.96      0.97      1382\n",
      "\n",
      "    accuracy                           0.99     20135\n",
      "   macro avg       0.97      0.87      0.92     20135\n",
      "weighted avg       0.99      0.99      0.99     20135\n",
      "\n"
     ]
    }
   ],
   "source": [
    "from sklearn.ensemble import VotingClassifier\n",
    "from sklearn.metrics import classification_report\n",
    "\n",
    "# Create a VotingClassifier\n",
    "voting_model = VotingClassifier(\n",
    "    estimators=[\n",
    "        ('xgb', xgb_model),\n",
    "        ('rf', rf_model),\n",
    "        ('lr', lr_model)\n",
    "    ],\n",
    "    voting='hard'  # 'hard' for majority voting, 'soft' for averaging probabilities\n",
    ")\n",
    "\n",
    "# Train the ensemble model\n",
    "voting_model.fit(X_train_scaled, y_train)\n",
    "\n",
    "# Make predictions\n",
    "y_pred_voting = voting_model.predict(X_test_scaled)\n",
    "\n",
    "# Evaluate the ensemble model\n",
    "print(\"Voting Classifier Classification Report:\")\n",
    "print(classification_report(y_test, y_pred_voting, target_names=label_encoder.classes_))"
   ]
  }
 ],
 "metadata": {
  "kernelspec": {
   "display_name": "venv",
   "language": "python",
   "name": "python3"
  },
  "language_info": {
   "codemirror_mode": {
    "name": "ipython",
    "version": 3
   },
   "file_extension": ".py",
   "mimetype": "text/x-python",
   "name": "python",
   "nbconvert_exporter": "python",
   "pygments_lexer": "ipython3",
   "version": "3.11.9"
  }
 },
 "nbformat": 4,
 "nbformat_minor": 5
}
